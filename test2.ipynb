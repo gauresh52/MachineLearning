{
 "cells": [
  {
   "cell_type": "code",
   "execution_count": 1,
   "id": "117d6250",
   "metadata": {},
   "outputs": [
    {
     "name": "stdout",
     "output_type": "stream",
     "text": [
      "Collecting vosk\n",
      "  Using cached vosk-0.3.44-py3-none-macosx_10_6_universal2.whl.metadata (1.8 kB)\n",
      "Collecting soundfile\n",
      "  Using cached soundfile-0.13.1-py2.py3-none-macosx_11_0_arm64.whl.metadata (16 kB)\n",
      "Collecting jiwer\n",
      "  Using cached jiwer-3.1.0-py3-none-any.whl.metadata (2.6 kB)\n",
      "Collecting cffi>=1.0 (from vosk)\n",
      "  Using cached cffi-1.17.1-cp313-cp313-macosx_11_0_arm64.whl.metadata (1.5 kB)\n",
      "Collecting requests (from vosk)\n",
      "  Using cached requests-2.32.3-py3-none-any.whl.metadata (4.6 kB)\n",
      "Collecting tqdm (from vosk)\n",
      "  Using cached tqdm-4.67.1-py3-none-any.whl.metadata (57 kB)\n",
      "Collecting srt (from vosk)\n",
      "  Using cached srt-3.5.3-py3-none-any.whl\n",
      "Collecting websockets (from vosk)\n",
      "  Using cached websockets-15.0.1-cp313-cp313-macosx_11_0_arm64.whl.metadata (6.8 kB)\n",
      "Collecting numpy (from soundfile)\n",
      "  Using cached numpy-2.2.5-cp313-cp313-macosx_14_0_arm64.whl.metadata (62 kB)\n",
      "Collecting click>=8.1.8 (from jiwer)\n",
      "  Using cached click-8.1.8-py3-none-any.whl.metadata (2.3 kB)\n",
      "Collecting rapidfuzz>=3.9.7 (from jiwer)\n",
      "  Using cached rapidfuzz-3.13.0-cp313-cp313-macosx_11_0_arm64.whl.metadata (12 kB)\n",
      "Collecting pycparser (from cffi>=1.0->vosk)\n",
      "  Using cached pycparser-2.22-py3-none-any.whl.metadata (943 bytes)\n",
      "Collecting charset-normalizer<4,>=2 (from requests->vosk)\n",
      "  Using cached charset_normalizer-3.4.1-cp313-cp313-macosx_10_13_universal2.whl.metadata (35 kB)\n",
      "Collecting idna<4,>=2.5 (from requests->vosk)\n",
      "  Using cached idna-3.10-py3-none-any.whl.metadata (10 kB)\n",
      "Collecting urllib3<3,>=1.21.1 (from requests->vosk)\n",
      "  Using cached urllib3-2.4.0-py3-none-any.whl.metadata (6.5 kB)\n",
      "Collecting certifi>=2017.4.17 (from requests->vosk)\n",
      "  Using cached certifi-2025.4.26-py3-none-any.whl.metadata (2.5 kB)\n",
      "Using cached vosk-0.3.44-py3-none-macosx_10_6_universal2.whl (4.7 MB)\n",
      "Using cached soundfile-0.13.1-py2.py3-none-macosx_11_0_arm64.whl (1.1 MB)\n",
      "Using cached jiwer-3.1.0-py3-none-any.whl (22 kB)\n",
      "Using cached cffi-1.17.1-cp313-cp313-macosx_11_0_arm64.whl (178 kB)\n",
      "Using cached click-8.1.8-py3-none-any.whl (98 kB)\n",
      "Using cached rapidfuzz-3.13.0-cp313-cp313-macosx_11_0_arm64.whl (1.4 MB)\n",
      "Using cached numpy-2.2.5-cp313-cp313-macosx_14_0_arm64.whl (5.1 MB)\n",
      "Using cached pycparser-2.22-py3-none-any.whl (117 kB)\n",
      "Using cached requests-2.32.3-py3-none-any.whl (64 kB)\n",
      "Using cached charset_normalizer-3.4.1-cp313-cp313-macosx_10_13_universal2.whl (195 kB)\n",
      "Using cached idna-3.10-py3-none-any.whl (70 kB)\n",
      "Using cached urllib3-2.4.0-py3-none-any.whl (128 kB)\n",
      "Using cached certifi-2025.4.26-py3-none-any.whl (159 kB)\n",
      "Using cached tqdm-4.67.1-py3-none-any.whl (78 kB)\n",
      "Using cached websockets-15.0.1-cp313-cp313-macosx_11_0_arm64.whl (173 kB)\n",
      "Installing collected packages: websockets, urllib3, tqdm, srt, rapidfuzz, pycparser, numpy, idna, click, charset-normalizer, certifi, requests, jiwer, cffi, vosk, soundfile\n",
      "\u001b[2K   \u001b[90m━━━━━━━━━━━━━━━━━━━━━━━━━━━━━━━━━━━━━━━━\u001b[0m \u001b[32m16/16\u001b[0m [soundfile]16\u001b[0m [cffi]]\n",
      "\u001b[1A\u001b[2KSuccessfully installed certifi-2025.4.26 cffi-1.17.1 charset-normalizer-3.4.1 click-8.1.8 idna-3.10 jiwer-3.1.0 numpy-2.2.5 pycparser-2.22 rapidfuzz-3.13.0 requests-2.32.3 soundfile-0.13.1 srt-3.5.3 tqdm-4.67.1 urllib3-2.4.0 vosk-0.3.44 websockets-15.0.1\n",
      "Note: you may need to restart the kernel to use updated packages.\n"
     ]
    }
   ],
   "source": [
    "pip install vosk soundfile jiwer\n"
   ]
  },
  {
   "cell_type": "code",
   "execution_count": 4,
   "id": "0fce7c1c",
   "metadata": {},
   "outputs": [
    {
     "name": "stderr",
     "output_type": "stream",
     "text": [
      "LOG (VoskAPI:ReadDataFiles():model.cc:213) Decoding params beam=10 max-active=3000 lattice-beam=2\n",
      "LOG (VoskAPI:ReadDataFiles():model.cc:216) Silence phones 1:2:3:4:5:6:7:8:9:10\n",
      "LOG (VoskAPI:RemoveOrphanNodes():nnet-nnet.cc:948) Removed 0 orphan nodes.\n",
      "LOG (VoskAPI:RemoveOrphanComponents():nnet-nnet.cc:847) Removing 0 orphan components.\n",
      "LOG (VoskAPI:ReadDataFiles():model.cc:248) Loading i-vector extractor from vosk-model-small-en-us-0.15/ivector/final.ie\n",
      "LOG (VoskAPI:ComputeDerivedVars():ivector-extractor.cc:183) Computing derived variables for iVector extractor\n",
      "LOG (VoskAPI:ComputeDerivedVars():ivector-extractor.cc:204) Done.\n",
      "LOG (VoskAPI:ReadDataFiles():model.cc:282) Loading HCL and G from vosk-model-small-en-us-0.15/graph/HCLr.fst vosk-model-small-en-us-0.15/graph/Gr.fst\n",
      "LOG (VoskAPI:ReadDataFiles():model.cc:303) Loading winfo vosk-model-small-en-us-0.15/graph/phones/word_boundary.int\n"
     ]
    },
    {
     "name": "stdout",
     "output_type": "stream",
     "text": [
      "Recognized Text:\n",
      "so how do i decided i should have the her well basically the celebration itself starts at least two days prior to dollars said intellectual fisher so i love my founding members come to get together in a house in our in cheshire house and then v director these like kinda house the their declaration and the matter where you know their stuff an on going to shutters tv you know bring their getty side and but like need to guys are now and are and exert etc we have duration and food prepared for their deity like needed gas feet to it more that and that be by firecrackers and yeah so it usually eve when i have the faraday's seventies and yeah that's how we celebrate when he said that the so where does your my favorite month during an issue that yeah definitely my family getting together on a chef you know it's kind of go or i've only been was working together to a certain going to a certain thing you know ha than that are russian according to work when things would change about created festers him okay so you know these days it's new nuclear families two to three it together for two to three days i think we should be together as a family should be together for more than that you know should meet often measured he often that's one thing about i like it was going to the generating your richard be incorporated into everything every other factor festival their decompress think\n"
     ]
    }
   ],
   "source": [
    "import os\n",
    "import soundfile as sf\n",
    "from vosk import Model, KaldiRecognizer\n",
    "import json\n",
    "from jiwer import wer\n",
    "\n",
    "# Load model (offline, no API)\n",
    "model = Model(\"vosk-model-small-en-us-0.15\")  # Path to your downloaded model\n",
    "\n",
    "# Set audio path\n",
    "audio_path = \"7.wav\"\n",
    "\n",
    "# Recognize\n",
    "with sf.SoundFile(audio_path) as audio_file:\n",
    "    samplerate = audio_file.samplerate\n",
    "    rec = KaldiRecognizer(model, samplerate)\n",
    "    text = \"\"\n",
    "\n",
    "    while True:\n",
    "        data = audio_file.buffer_read(8000, dtype='int16')  # Increase the size of data read\n",
    "        if len(data) == 0:\n",
    "            break\n",
    "        if rec.AcceptWaveform(bytes(data)):\n",
    "            result = json.loads(rec.Result())\n",
    "            text += result.get(\"text\", \"\") + \" \"\n",
    "\n",
    "\n",
    "    # Final result\n",
    "    final_result = json.loads(rec.FinalResult())\n",
    "    text += final_result.get(\"text\", \"\")\n",
    "\n",
    "print(\"Recognized Text:\")\n",
    "print(text)\n"
   ]
  },
  {
   "cell_type": "code",
   "execution_count": 5,
   "id": "31a62e83",
   "metadata": {},
   "outputs": [
    {
     "name": "stdout",
     "output_type": "stream",
     "text": [
      "Total number of words: 261\n",
      "Total number of unique words: 144\n"
     ]
    }
   ],
   "source": [
    "# Word counting\n",
    "words = text.strip().split()\n",
    "num_words = len(words)\n",
    "num_unique_words = len(set(words))\n",
    "\n",
    "print(f\"Total number of words: {num_words}\")\n",
    "print(f\"Total number of unique words: {num_unique_words}\")\n"
   ]
  },
  {
   "cell_type": "markdown",
   "id": "9ed3bb3b",
   "metadata": {},
   "source": [
    "error analysis"
   ]
  },
  {
   "cell_type": "code",
   "execution_count": null,
   "id": "ec1b7383",
   "metadata": {},
   "outputs": [
    {
     "name": "stdout",
     "output_type": "stream",
     "text": [
      "Collecting faster-whisper\n",
      "  Downloading faster_whisper-1.1.1-py3-none-any.whl.metadata (16 kB)\n",
      "Collecting ctranslate2<5,>=4.0 (from faster-whisper)\n",
      "  Downloading ctranslate2-4.6.0-cp313-cp313-macosx_11_0_arm64.whl.metadata (10 kB)\n",
      "Collecting huggingface-hub>=0.13 (from faster-whisper)\n",
      "  Downloading huggingface_hub-0.30.2-py3-none-any.whl.metadata (13 kB)\n",
      "Collecting tokenizers<1,>=0.13 (from faster-whisper)\n",
      "  Downloading tokenizers-0.21.1-cp39-abi3-macosx_11_0_arm64.whl.metadata (6.8 kB)\n",
      "Collecting onnxruntime<2,>=1.14 (from faster-whisper)\n",
      "  Downloading onnxruntime-1.21.1-cp313-cp313-macosx_13_0_universal2.whl.metadata (4.5 kB)\n",
      "Collecting av>=11 (from faster-whisper)\n",
      "  Downloading av-14.3.0-cp313-cp313-macosx_12_0_arm64.whl.metadata (4.7 kB)\n",
      "Requirement already satisfied: tqdm in ./.venv/lib/python3.13/site-packages (from faster-whisper) (4.67.1)\n",
      "Collecting setuptools (from ctranslate2<5,>=4.0->faster-whisper)\n",
      "  Using cached setuptools-80.0.0-py3-none-any.whl.metadata (6.5 kB)\n",
      "Requirement already satisfied: numpy in ./.venv/lib/python3.13/site-packages (from ctranslate2<5,>=4.0->faster-whisper) (2.2.5)\n",
      "Collecting pyyaml<7,>=5.3 (from ctranslate2<5,>=4.0->faster-whisper)\n",
      "  Using cached PyYAML-6.0.2-cp313-cp313-macosx_11_0_arm64.whl.metadata (2.1 kB)\n",
      "Collecting coloredlogs (from onnxruntime<2,>=1.14->faster-whisper)\n",
      "  Downloading coloredlogs-15.0.1-py2.py3-none-any.whl.metadata (12 kB)\n",
      "Collecting flatbuffers (from onnxruntime<2,>=1.14->faster-whisper)\n",
      "  Downloading flatbuffers-25.2.10-py2.py3-none-any.whl.metadata (875 bytes)\n",
      "Requirement already satisfied: packaging in ./.venv/lib/python3.13/site-packages (from onnxruntime<2,>=1.14->faster-whisper) (25.0)\n",
      "Collecting protobuf (from onnxruntime<2,>=1.14->faster-whisper)\n",
      "  Downloading protobuf-6.30.2-cp39-abi3-macosx_10_9_universal2.whl.metadata (593 bytes)\n",
      "Collecting sympy (from onnxruntime<2,>=1.14->faster-whisper)\n",
      "  Downloading sympy-1.14.0-py3-none-any.whl.metadata (12 kB)\n",
      "Collecting filelock (from huggingface-hub>=0.13->faster-whisper)\n",
      "  Downloading filelock-3.18.0-py3-none-any.whl.metadata (2.9 kB)\n",
      "Collecting fsspec>=2023.5.0 (from huggingface-hub>=0.13->faster-whisper)\n",
      "  Downloading fsspec-2025.3.2-py3-none-any.whl.metadata (11 kB)\n",
      "Requirement already satisfied: requests in ./.venv/lib/python3.13/site-packages (from huggingface-hub>=0.13->faster-whisper) (2.32.3)\n",
      "Collecting typing-extensions>=3.7.4.3 (from huggingface-hub>=0.13->faster-whisper)\n",
      "  Downloading typing_extensions-4.13.2-py3-none-any.whl.metadata (3.0 kB)\n",
      "Collecting humanfriendly>=9.1 (from coloredlogs->onnxruntime<2,>=1.14->faster-whisper)\n",
      "  Downloading humanfriendly-10.0-py2.py3-none-any.whl.metadata (9.2 kB)\n",
      "Requirement already satisfied: charset-normalizer<4,>=2 in ./.venv/lib/python3.13/site-packages (from requests->huggingface-hub>=0.13->faster-whisper) (3.4.1)\n",
      "Requirement already satisfied: idna<4,>=2.5 in ./.venv/lib/python3.13/site-packages (from requests->huggingface-hub>=0.13->faster-whisper) (3.10)\n",
      "Requirement already satisfied: urllib3<3,>=1.21.1 in ./.venv/lib/python3.13/site-packages (from requests->huggingface-hub>=0.13->faster-whisper) (2.4.0)\n",
      "Requirement already satisfied: certifi>=2017.4.17 in ./.venv/lib/python3.13/site-packages (from requests->huggingface-hub>=0.13->faster-whisper) (2025.4.26)\n",
      "Collecting mpmath<1.4,>=1.1.0 (from sympy->onnxruntime<2,>=1.14->faster-whisper)\n",
      "  Downloading mpmath-1.3.0-py3-none-any.whl.metadata (8.6 kB)\n",
      "Downloading faster_whisper-1.1.1-py3-none-any.whl (1.1 MB)\n",
      "\u001b[2K   \u001b[90m━━━━━━━━━━━━━━━━━━━━━━━━━━━━━━━━━━━━━━━━\u001b[0m \u001b[32m1.1/1.1 MB\u001b[0m \u001b[31m370.9 kB/s\u001b[0m eta \u001b[36m0:00:00\u001b[0ma \u001b[36m0:00:01\u001b[0m\n",
      "\u001b[?25hDownloading ctranslate2-4.6.0-cp313-cp313-macosx_11_0_arm64.whl (1.3 MB)\n",
      "\u001b[2K   \u001b[90m━━━━━━━━━━━━━━━━━━━━━━━━━━━━━━━━━━━━━━━━\u001b[0m \u001b[32m1.3/1.3 MB\u001b[0m \u001b[31m248.1 kB/s\u001b[0m eta \u001b[36m0:00:00\u001b[0ma \u001b[36m0:00:01\u001b[0m\n",
      "\u001b[?25hDownloading onnxruntime-1.21.1-cp313-cp313-macosx_13_0_universal2.whl (33.7 MB)\n",
      "\u001b[2K   \u001b[90m━━━━━━━━━━━━━━━━━━━━━━━━━━━━━━━━━━━━━━━━\u001b[0m \u001b[32m33.7/33.7 MB\u001b[0m \u001b[31m698.4 kB/s\u001b[0m eta \u001b[36m0:00:00\u001b[0m00:01\u001b[0m00:02\u001b[0m\n",
      "\u001b[?25hUsing cached PyYAML-6.0.2-cp313-cp313-macosx_11_0_arm64.whl (171 kB)\n",
      "Downloading tokenizers-0.21.1-cp39-abi3-macosx_11_0_arm64.whl (2.7 MB)\n",
      "\u001b[2K   \u001b[90m━━━━━━━━━━━━━━━━━━━━━━━━━━━━━━━━━━━━━━━━\u001b[0m \u001b[32m2.7/2.7 MB\u001b[0m \u001b[31m688.0 kB/s\u001b[0m eta \u001b[36m0:00:00\u001b[0m00:01\u001b[0m00:01\u001b[0m\n",
      "\u001b[?25hDownloading huggingface_hub-0.30.2-py3-none-any.whl (481 kB)\n",
      "Downloading av-14.3.0-cp313-cp313-macosx_12_0_arm64.whl (20.0 MB)\n",
      "\u001b[2K   \u001b[90m━━━━━━━━━━━━━━━━━━━━━━━━━━━━━━━━━━━━━━━━\u001b[0m \u001b[32m20.0/20.0 MB\u001b[0m \u001b[31m343.7 kB/s\u001b[0m eta \u001b[36m0:00:00\u001b[0m00:01\u001b[0m00:02\u001b[0m\n",
      "\u001b[?25hDownloading fsspec-2025.3.2-py3-none-any.whl (194 kB)\n",
      "Downloading typing_extensions-4.13.2-py3-none-any.whl (45 kB)\n",
      "Downloading coloredlogs-15.0.1-py2.py3-none-any.whl (46 kB)\n",
      "Downloading humanfriendly-10.0-py2.py3-none-any.whl (86 kB)\n",
      "Downloading filelock-3.18.0-py3-none-any.whl (16 kB)\n",
      "Downloading flatbuffers-25.2.10-py2.py3-none-any.whl (30 kB)\n",
      "Downloading protobuf-6.30.2-cp39-abi3-macosx_10_9_universal2.whl (417 kB)\n",
      "Using cached setuptools-80.0.0-py3-none-any.whl (1.2 MB)\n",
      "Downloading sympy-1.14.0-py3-none-any.whl (6.3 MB)\n",
      "\u001b[2K   \u001b[90m━━━━━━━━━━━━━━━━━━━━━━━━━━━━━━━━━━━━━━━━\u001b[0m \u001b[32m6.3/6.3 MB\u001b[0m \u001b[31m138.4 kB/s\u001b[0m eta \u001b[36m0:00:00\u001b[0ma \u001b[36m0:00:03\u001b[0m\n",
      "\u001b[?25hDownloading mpmath-1.3.0-py3-none-any.whl (536 kB)\n",
      "\u001b[2K   \u001b[90m━━━━━━━━━━━━━━━━━━━━━━━━━━━━━━━━━━━━━━━\u001b[0m \u001b[32m536.2/536.2 kB\u001b[0m \u001b[31m386.0 kB/s\u001b[0m eta \u001b[36m0:00:00\u001b[0m:--:--\u001b[0m\n",
      "\u001b[?25hInstalling collected packages: mpmath, flatbuffers, typing-extensions, sympy, setuptools, pyyaml, protobuf, humanfriendly, fsspec, filelock, av, huggingface-hub, ctranslate2, coloredlogs, tokenizers, onnxruntime, faster-whisper\n",
      "\u001b[2K   \u001b[90m━━━━━━━━━━━━━━━━━━━━━━━━━━━━━━━━━━━━━━━━\u001b[0m \u001b[32m17/17\u001b[0m [faster-whisper]m [onnxruntime]hub]\n",
      "\u001b[1A\u001b[2KSuccessfully installed av-14.3.0 coloredlogs-15.0.1 ctranslate2-4.6.0 faster-whisper-1.1.1 filelock-3.18.0 flatbuffers-25.2.10 fsspec-2025.3.2 huggingface-hub-0.30.2 humanfriendly-10.0 mpmath-1.3.0 onnxruntime-1.21.1 protobuf-6.30.2 pyyaml-6.0.2 setuptools-80.0.0 sympy-1.14.0 tokenizers-0.21.1 typing-extensions-4.13.2\n"
     ]
    }
   ],
   "source": [
    "#for extracting orginal text \n",
    "!pip install faster-whisper\n",
    "\n",
    "\n",
    "\n",
    "\n"
   ]
  },
  {
   "cell_type": "code",
   "execution_count": 12,
   "id": "2da8d7c7",
   "metadata": {},
   "outputs": [
    {
     "name": "stderr",
     "output_type": "stream",
     "text": [
      "/Users/gauresh/Desktop/a2/.venv/lib/python3.13/site-packages/tqdm/auto.py:21: TqdmWarning: IProgress not found. Please update jupyter and ipywidgets. See https://ipywidgets.readthedocs.io/en/stable/user_install.html\n",
      "  from .autonotebook import tqdm as notebook_tqdm\n"
     ]
    },
    {
     "name": "stdout",
     "output_type": "stream",
     "text": [
      " So how do I celebrate Ganesh Chaturthi, huh?  Well basically, the celebration itself starts at least 2 days prior to all the actual festivals.  So all of my family members come together, gather in a house, in an old and special house.  And then we do activities like clean the house, do the decoration, do the maturi and all that stuff.  And on Ganesh Chaturthi, we, you know, bring the deity's idols.  Like we do pujasana and arthis and etc. etc.  We have traditional food prepared for the deity.  Like nevidya, sweets such as mudak and all that.  We burst firecrackers.  And yeah, so it's usually one and a half day, five days, seven days.  And yeah, that's how we celebrate Ganesh Chaturthi.  So what is my favorite moment during Ganesh Chaturthi?  Yeah, definitely my family getting together and all that stuff.  You know, it's kind of good.  All of my family members working together to a certain goal, to a certain thing.  You know, then the third question, according to you,  one thing should change about Ganesh Chaturthi festivals.  Okay, so you know, these days it's nuclear families.  Two to three, we are already together for two to three days.  I think we should be together.  As a family, we should be together for more than that.  You know, we should meet often.  We should see often.  That's one thing about I like about Ganesh Chaturthi.  And I think, you know, it should be incorporated into everything.  You know, every other festival that we come across.  Thank you.\n"
     ]
    }
   ],
   "source": [
    "from faster_whisper import WhisperModel\n",
    "\n",
    "# Load model\n",
    "model = WhisperModel(\"small\", device=\"cpu\", compute_type=\"int8\")\n",
    "\n",
    "# Transcribe\n",
    "segments, info = model.transcribe(\"7.wav\")\n",
    "\n",
    "# Print transcript\n",
    "transcript = \" \".join([segment.text for segment in segments])\n",
    "print(transcript)\n"
   ]
  },
  {
   "cell_type": "code",
   "execution_count": 13,
   "id": "00beceda",
   "metadata": {},
   "outputs": [
    {
     "name": "stdout",
     "output_type": "stream",
     "text": [
      "Word Error Rate: 0.71\n"
     ]
    }
   ],
   "source": [
    "# Ground truth text (what you actually spoke)\n",
    "ground_truth = transcript\n",
    "\n",
    "# Word Error Rate\n",
    "error = wer(ground_truth, text)\n",
    "print(f\"Word Error Rate: {error:.2f}\")\n"
   ]
  }
 ],
 "metadata": {
  "kernelspec": {
   "display_name": ".venv",
   "language": "python",
   "name": "python3"
  },
  "language_info": {
   "codemirror_mode": {
    "name": "ipython",
    "version": 3
   },
   "file_extension": ".py",
   "mimetype": "text/x-python",
   "name": "python",
   "nbconvert_exporter": "python",
   "pygments_lexer": "ipython3",
   "version": "3.13.2"
  }
 },
 "nbformat": 4,
 "nbformat_minor": 5
}
